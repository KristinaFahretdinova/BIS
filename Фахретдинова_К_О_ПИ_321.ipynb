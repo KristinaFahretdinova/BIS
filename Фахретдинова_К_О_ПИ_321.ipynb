{
  "nbformat": 4,
  "nbformat_minor": 0,
  "metadata": {
    "colab": {
      "name": "Фахретдинова К.О. ПИ-321",
      "provenance": [],
      "collapsed_sections": []
    },
    "kernelspec": {
      "name": "python3",
      "display_name": "Python 3"
    },
    "language_info": {
      "name": "python"
    }
  },
  "cells": [
    {
      "cell_type": "markdown",
      "source": [
        "# Фахретдинова Кристина ПИ-321"
      ],
      "metadata": {
        "id": "hItxcIOx4B4-"
      }
    },
    {
      "cell_type": "markdown",
      "source": [
        "# **Греческий алфавит**"
      ],
      "metadata": {
        "id": "4A6N36lZ5WDv"
      }
    },
    {
      "cell_type": "markdown",
      "source": [
        "Заглавная|Строчная|Название\n",
        ":----:|:----:|:----:\n",
        "Α|$\\alpha$|Альфа\n",
        "Β|$\\beta$|Бета\n",
        "Γ|$\\gamma$|Гамма\n",
        "Δ|$\\delta$|Дельта\n",
        "Ε|$\\epsilon$|Эпсилон\n",
        "Ζ|$\\zeta$|Дзета\n",
        "Η|$\\eta$|Эта\n",
        "Θ|$\\theta$ and $\\vartheta$|Тета\n",
        "Ι|$\\iota$|Йота\n",
        "Κ|$\\kappa$ and $\\varkappa$|Каппа\n",
        "Λ|$\\lambda$|Лямбда\n",
        "M|$\\mu$|Мю\n",
        "N|$\\nu$|Ню\n",
        "Ξ|$\\xi$|Кси\n",
        "O|$\\omicron$|Омикрон\n",
        "Π|$\\pi$|Пи\n",
        "P|$\\rho$|Ро\n",
        "Σ|$\\sigma$ and $\\varsigma$|Сигма\n",
        "T|$\\tau$|Тау\n",
        "Υ|$\\upsilon$|Ипсилон\n",
        "Φ|$\\phi$ and $\\varphi$|Фи\n",
        "X|$\\chi$|Хи\n",
        "Ψ|$\\psi$|Пси\n",
        "Ω|$\\omega$|Омега"
      ],
      "metadata": {
        "id": "k36nrgxU5_8W"
      }
    },
    {
      "cell_type": "markdown",
      "source": [
        "Формула в отдельной строке\n",
        "$${\\displaystyle f(x)={\\frac {1}{\\sigma {\\sqrt {2\\pi }}}} e^{-{\\frac {1} {2}} \\left({\\frac {x-\\mu }{\\sigma }} \\right)^{2}}}$$"
      ],
      "metadata": {
        "id": "v5yv5x6TFzh3"
      }
    },
    {
      "cell_type": "markdown",
      "source": [
        "Формула в тексте: ${\\displaystyle f(x)={\\frac {1}{\\sigma {\\sqrt {2\\pi }}}} e^{-{\\frac {1} {2}} \\left({\\frac {x-\\mu }{\\sigma }} \\right)^{2}}}$"
      ],
      "metadata": {
        "id": "tszv61zYIArn"
      }
    },
    {
      "cell_type": "markdown",
      "source": [
        "# Заголовок первого уровня"
      ],
      "metadata": {
        "id": "yoD7kRUBIYgr"
      }
    },
    {
      "cell_type": "markdown",
      "source": [
        "## Заголовок второго уровня"
      ],
      "metadata": {
        "id": "ivU7vy-UIlMH"
      }
    },
    {
      "cell_type": "markdown",
      "source": [
        "### Заголовок третьего уровня"
      ],
      "metadata": {
        "id": "OLKFhAUWIutG"
      }
    }
  ]
}